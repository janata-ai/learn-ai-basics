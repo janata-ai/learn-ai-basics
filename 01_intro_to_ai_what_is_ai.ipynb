{
 "cells": [
  {
   "cell_type": "markdown",
   "id": "22d556fb",
   "metadata": {},
   "source": [
    "# 🤖 What is AI? | Janata AI\n",
    "\n",
    "Welcome to your first notebook! Let's break down AI, ML, and DL in a way that's easy to understand, with examples and code to back it up."
   ]
  },
  {
   "cell_type": "markdown",
   "id": "0524753f",
   "metadata": {},
   "source": [
    "## 💡 AI in Simple Words\n",
    "\n",
    "**Artificial Intelligence (AI)** is when machines try to act smart — like humans. They learn from data, make decisions, and even talk to us!\n",
    "\n",
    "### Examples of AI:\n",
    "- ChatGPT (talks like a human)\n",
    "- Google Maps (finds best routes)\n",
    "- Netflix recommendations (what to watch next)\n",
    "\n",
    "### Real-Life Analogy:\n",
    "> **AI = A smart assistant who learns from your past behavior and helps you better every time.**"
   ]
  },
  {
   "cell_type": "markdown",
   "id": "f7887369",
   "metadata": {},
   "source": [
    "## 🧠 AI vs ML vs DL\n",
    "\n",
    "| Term | Meaning | Example |\n",
    "|------|---------|---------|\n",
    "| AI  | Machines that act smart | ChatGPT, Siri |\n",
    "| ML  | Teach machines with data | Spam filter, Stock prediction |\n",
    "| DL  | ML using deep neural networks | Face recognition, Voice assistants |"
   ]
  },
  {
   "cell_type": "markdown",
   "id": "53f98fdc",
   "metadata": {},
   "source": [
    "## 🔍 ML in Action: A Mini Example\n",
    "Let's create a simple ML model to predict salary based on experience!"
   ]
  },
  {
   "cell_type": "code",
   "execution_count": null,
   "id": "89e00607",
   "metadata": {},
   "outputs": [],
   "source": [
    "import pandas as pd\n",
    "from sklearn.linear_model import LinearRegression\n",
    "import matplotlib.pyplot as plt"
   ]
  },
  {
   "cell_type": "code",
   "execution_count": null,
   "id": "d78e4246",
   "metadata": {},
   "outputs": [],
   "source": [
    "# Sample data (experience vs salary)\n",
    "data = {\n",
    "    'Experience': [1, 2, 3, 4, 5],\n",
    "    'Salary': [30000, 35000, 50000, 55000, 65000]\n",
    "}\n",
    "df = pd.DataFrame(data)\n",
    "df"
   ]
  },
  {
   "cell_type": "code",
   "execution_count": null,
   "id": "e47d1c0d",
   "metadata": {},
   "outputs": [],
   "source": [
    "X = df[['Experience']]\n",
    "y = df['Salary']"
   ]
  },
  {
   "cell_type": "code",
   "execution_count": null,
   "id": "c936a1a3",
   "metadata": {},
   "outputs": [],
   "source": [
    "model = LinearRegression()\n",
    "model.fit(X, y)"
   ]
  },
  {
   "cell_type": "code",
   "execution_count": null,
   "id": "bd601565",
   "metadata": {},
   "outputs": [],
   "source": [
    "predicted_salary = model.predict([[6]])\n",
    "print(f\"Predicted Salary for 6 years experience: ₹{int(predicted_salary[0])}\")"
   ]
  },
  {
   "cell_type": "code",
   "execution_count": null,
   "id": "777e497f",
   "metadata": {},
   "outputs": [],
   "source": [
    "plt.scatter(df['Experience'], df['Salary'], color='blue')\n",
    "plt.plot(df['Experience'], model.predict(X), color='red')\n",
    "plt.xlabel('Years of Experience')\n",
    "plt.ylabel('Salary (INR)')\n",
    "plt.title('Experience vs Salary - ML Model')\n",
    "plt.grid(True)\n",
    "plt.show()"
   ]
  },
  {
   "cell_type": "markdown",
   "id": "c0c01ed8",
   "metadata": {},
   "source": [
    "## 🎯 Recap\n",
    "- AI = Big concept of smart machines\n",
    "- ML = One method of AI (learn from data)\n",
    "- DL = Advanced ML using neural networks\n",
    "\n",
    "✅ You just built your **first ML model**!\n",
    "\n",
    "In the next notebook, we’ll dive into **Python essentials for ML**. Let’s go! 🚀"
   ]
  }
 ],
 "metadata": {
  "kernelspec": {
   "display_name": "Python 3",
   "name": "python3"
  }
 },
 "nbformat": 4,
 "nbformat_minor": 5
}
