"""
# 🤖 What is AI? | Janata AI

Welcome to your first notebook! Let's break down AI, ML, and DL in a way that's easy to understand, with examples and code to back it up.
"""

# %% [markdown]
"""
## 💡 AI in Simple Words

**Artificial Intelligence (AI)** is when machines try to act smart — like humans. They learn from data, make decisions, and even talk to us!

### Examples of AI:
- ChatGPT (talks like a human)
- Google Maps (finds best routes)
- Netflix recommendations (what to watch next)

### Real-Life Analogy:
> **AI = A smart assistant who learns from your past behavior and helps you better every time.**

"""

# %% [markdown]
"""
## 🧠 AI vs ML vs DL

| Term | Meaning | Example |
|------|---------|---------|
| AI  | Machines that act smart | ChatGPT, Siri |
| ML  | Teach machines with data | Spam filter, Stock prediction |
| DL  | ML using deep neural networks | Face recognition, Voice assistants |

"""

# %% [markdown]
"""
## 🔍 ML in Action: A Mini Example
Let's create a simple ML model to predict salary based on experience!
"""

# %%
# Import libraries
import pandas as pd
from sklearn.linear_model import LinearRegression
import matplotlib.pyplot as plt

# %%
# Sample data (experience vs salary)
data = {
    'Experience': [1, 2, 3, 4, 5],
    'Salary': [30000, 35000, 50000, 55000, 65000]
}
df = pd.DataFrame(data)
df

# %%
# Split features and label
X = df[['Experience']]
y = df['Salary']

# %%
# Train ML model
model = LinearRegression()
model.fit(X, y)

# %%
# Predict salary for 6 years experience
predicted_salary = model.predict([[6]])
print(f"Predicted Salary for 6 years experience: ₹{int(predicted_salary[0])}")

# %%
# Visualize the model
plt.scatter(df['Experience'], df['Salary'], color='blue')
plt.plot(df['Experience'], model.predict(X), color='red')
plt.xlabel('Years of Experience')
plt.ylabel('Salary (INR)')
plt.title('Experience vs Salary - ML Model')
plt.grid(True)
plt.show()

# %% [markdown]
"""
## 🎯 Recap
- AI = Big concept of smart machines
- ML = One method of AI (learn from data)
- DL = Advanced ML using neural networks

✅ You just built your **first ML model**!

In the next notebook, we’ll dive into **Python essentials for ML**. Let’s go! 🚀
"""

